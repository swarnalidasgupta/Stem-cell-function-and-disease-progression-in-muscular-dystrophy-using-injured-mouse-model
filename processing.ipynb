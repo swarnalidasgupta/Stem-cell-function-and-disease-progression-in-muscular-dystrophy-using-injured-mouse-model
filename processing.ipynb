{
 "cells": [
  {
   "cell_type": "markdown",
   "metadata": {},
   "source": [
    "# Stem cell function and disease progression in muscular dystrophy using injured mouse model"
   ]
  },
  {
   "cell_type": "code",
   "execution_count": 249,
   "metadata": {},
   "outputs": [],
   "source": [
    "import os\n",
    "import skimage\n",
    "import scanpy as sc\n",
    "import anndata as ad\n",
    "import pandas as pd\n",
    "import numpy as np\n",
    "import matplotlib as plt\n",
    "import seaborn as sns"
   ]
  },
  {
   "cell_type": "code",
   "execution_count": 250,
   "metadata": {},
   "outputs": [],
   "source": [
    "## Set scanpy verbosity\n",
    "sc.settings.verbosity = 3"
   ]
  },
  {
   "cell_type": "markdown",
   "metadata": {},
   "source": [
    "## Load and pre-process the data"
   ]
  },
  {
   "cell_type": "code",
   "execution_count": 251,
   "metadata": {},
   "outputs": [
    {
     "name": "stdout",
     "output_type": "stream",
     "text": [
      "reading /Users/Swarnali_1/Stem-cell-function-and-disease-progression-in-muscular-dystrophy-using-injured-mouse-model/data/GSM8289594_QSC_GFP_filtered_feature_bc_matrix.h5\n",
      " (0:00:01)\n",
      "reading /Users/Swarnali_1/Stem-cell-function-and-disease-progression-in-muscular-dystrophy-using-injured-mouse-model/data/GSM8289595_ASC_GFP_filtered_feature_bc_matrix.h5\n"
     ]
    },
    {
     "name": "stderr",
     "output_type": "stream",
     "text": [
      "/Library/Frameworks/Python.framework/Versions/3.12/lib/python3.12/site-packages/anndata/_core/anndata.py:1758: UserWarning: Variable names are not unique. To make them unique, call `.var_names_make_unique`.\n",
      "  utils.warn_names_duplicates(\"var\")\n",
      "/Library/Frameworks/Python.framework/Versions/3.12/lib/python3.12/site-packages/anndata/_core/anndata.py:1758: UserWarning: Variable names are not unique. To make them unique, call `.var_names_make_unique`.\n",
      "  utils.warn_names_duplicates(\"var\")\n"
     ]
    },
    {
     "name": "stdout",
     "output_type": "stream",
     "text": [
      " (0:00:01)\n"
     ]
    },
    {
     "name": "stderr",
     "output_type": "stream",
     "text": [
      "/Library/Frameworks/Python.framework/Versions/3.12/lib/python3.12/site-packages/anndata/_core/anndata.py:1758: UserWarning: Variable names are not unique. To make them unique, call `.var_names_make_unique`.\n",
      "  utils.warn_names_duplicates(\"var\")\n",
      "/Library/Frameworks/Python.framework/Versions/3.12/lib/python3.12/site-packages/anndata/_core/anndata.py:1758: UserWarning: Variable names are not unique. To make them unique, call `.var_names_make_unique`.\n",
      "  utils.warn_names_duplicates(\"var\")\n"
     ]
    },
    {
     "name": "stdout",
     "output_type": "stream",
     "text": [
      "Sample Name: not_injured, Sample: AnnData object with n_obs × n_vars = 8449 × 32285\n",
      "    var: 'gene_ids', 'feature_types', 'genome'\n",
      "Sample Name: injured, Sample: AnnData object with n_obs × n_vars = 6429 × 32285\n",
      "    var: 'gene_ids', 'feature_types', 'genome'\n",
      "sample\n",
      "not_injured    8449\n",
      "injured        6429\n",
      "Name: count, dtype: int64\n"
     ]
    },
    {
     "name": "stderr",
     "output_type": "stream",
     "text": [
      "/Library/Frameworks/Python.framework/Versions/3.12/lib/python3.12/site-packages/anndata/_core/anndata.py:1756: UserWarning: Observation names are not unique. To make them unique, call `.obs_names_make_unique`.\n",
      "  utils.warn_names_duplicates(\"obs\")\n"
     ]
    }
   ],
   "source": [
    "project_path = \"/Users/Swarnali_1/Stem-cell-function-and-disease-progression-in-muscular-dystrophy-using-injured-mouse-model/data/\"\n",
    "\n",
    "samples = {\"not_injured\" : \"GSM8289594_QSC_GFP_filtered_feature_bc_matrix.h5\",\n",
    "\"injured\" : \"GSM8289595_ASC_GFP_filtered_feature_bc_matrix.h5\"}\n",
    "\n",
    "adatas = {}\n",
    "\n",
    "for sample_id, file_id in samples.items():\n",
    "    path = os.path.join(project_path, file_id)\n",
    "    sample_adata = sc.read_10x_h5(path)\n",
    "    sample_adata.var_names_make_unique()\n",
    "    adatas[sample_id] = sample_adata\n",
    "\n",
    "for sample_id, sample in adatas.items():\n",
    "    print(f\"Sample Name: {sample_id}, Sample: {sample}\")\n",
    "\n",
    "adata = ad.concat(adatas, label = \"sample\")\n",
    "adata.obs_names_make_unique()\n",
    "print(adata.obs[\"sample\"].value_counts())"
   ]
  },
  {
   "cell_type": "code",
   "execution_count": 252,
   "metadata": {},
   "outputs": [
    {
     "name": "stdout",
     "output_type": "stream",
     "text": [
      "sample     \n",
      "not_injured    8449\n",
      "injured        6429\n",
      "Name: count, dtype: int64\n",
      "sample\n",
      "not_injured    8449\n",
      "injured        6429\n",
      "Name: count, dtype: int64\n"
     ]
    }
   ],
   "source": [
    "## Look at the count of unique values in the \"sample\" column of the obs\n",
    "print(adata.obs.value_counts())\n",
    "print(adata.obs[\"sample\"].value_counts())"
   ]
  },
  {
   "cell_type": "markdown",
   "metadata": {},
   "source": [
    "## Quality Control"
   ]
  },
  {
   "cell_type": "code",
   "execution_count": 253,
   "metadata": {},
   "outputs": [
    {
     "name": "stdout",
     "output_type": "stream",
     "text": [
      "                         sample  n_genes_by_counts  total_counts  \\\n",
      "AAACCCAAGAGATTCA-1  not_injured               3130        8428.0   \n",
      "AAACCCAAGGAATGTT-1  not_injured               3049        7313.0   \n",
      "AAACCCACAAATTAGG-1  not_injured               1345        2747.0   \n",
      "AAACCCACATACTGAC-1  not_injured               1644        3358.0   \n",
      "AAACCCACATAGATGA-1  not_injured               1429        2711.0   \n",
      "...                         ...                ...           ...   \n",
      "TTTGTTGGTTTCGCTC-1      injured               2597        7032.0   \n",
      "TTTGTTGTCAAGGCTT-1      injured               1933        4390.0   \n",
      "TTTGTTGTCCGATCGG-1      injured               3108        9870.0   \n",
      "TTTGTTGTCCTATTTG-1      injured               3072        8476.0   \n",
      "TTTGTTGTCGAATGCT-1      injured               3630       11109.0   \n",
      "\n",
      "                    pct_counts_in_top_50_genes  pct_counts_in_top_100_genes  \\\n",
      "AAACCCAAGAGATTCA-1                   26.506882                    37.980541   \n",
      "AAACCCAAGGAATGTT-1                   22.494188                    31.710652   \n",
      "AAACCCACAAATTAGG-1                   27.630142                    39.133600   \n",
      "AAACCCACATACTGAC-1                   26.563431                    38.177487   \n",
      "AAACCCACATAGATGA-1                   26.115824                    36.444117   \n",
      "...                                        ...                          ...   \n",
      "TTTGTTGGTTTCGCTC-1                   27.317975                    40.230375   \n",
      "TTTGTTGTCAAGGCTT-1                   30.569476                    40.911162   \n",
      "TTTGTTGTCCGATCGG-1                   27.831814                    39.159068   \n",
      "TTTGTTGTCCTATTTG-1                   22.581406                    33.058046   \n",
      "TTTGTTGTCGAATGCT-1                   23.152399                    34.269511   \n",
      "\n",
      "                    pct_counts_in_top_200_genes  pct_counts_in_top_500_genes  \\\n",
      "AAACCCAAGAGATTCA-1                    47.448980                    60.275273   \n",
      "AAACCCAAGGAATGTT-1                    41.282647                    56.105565   \n",
      "AAACCCACAAATTAGG-1                    51.255916                    69.239170   \n",
      "AAACCCACATACTGAC-1                    48.659917                    65.932102   \n",
      "AAACCCACATAGATGA-1                    47.805238                    65.732202   \n",
      "...                                         ...                          ...   \n",
      "TTTGTTGGTTTCGCTC-1                    50.881684                    64.391354   \n",
      "TTTGTTGTCAAGGCTT-1                    50.706150                    65.968109   \n",
      "TTTGTTGTCCGATCGG-1                    49.189463                    62.695035   \n",
      "TTTGTTGTCCTATTTG-1                    43.912223                    58.754129   \n",
      "TTTGTTGTCGAATGCT-1                    43.874336                    57.610946   \n",
      "\n",
      "                    total_counts_mt  pct_counts_mt  total_counts_ribo  \\\n",
      "AAACCCAAGAGATTCA-1            392.0       4.651163              980.0   \n",
      "AAACCCAAGGAATGTT-1            482.0       6.591002              603.0   \n",
      "AAACCCACAAATTAGG-1            115.0       4.186385              333.0   \n",
      "AAACCCACATACTGAC-1             82.0       2.441930              381.0   \n",
      "AAACCCACATAGATGA-1            135.0       4.979712              270.0   \n",
      "...                             ...            ...                ...   \n",
      "TTTGTTGGTTTCGCTC-1            236.0       3.356086              887.0   \n",
      "TTTGTTGTCAAGGCTT-1            352.0       8.018223              443.0   \n",
      "TTTGTTGTCCGATCGG-1            775.0       7.852077              909.0   \n",
      "TTTGTTGTCCTATTTG-1            325.0       3.834356              728.0   \n",
      "TTTGTTGTCGAATGCT-1            431.0       3.879737             1101.0   \n",
      "\n",
      "                    pct_counts_ribo  total_counts_hb  pct_counts_hb  n_counts  \n",
      "AAACCCAAGAGATTCA-1        11.627908              0.0            0.0    8428.0  \n",
      "AAACCCAAGGAATGTT-1         8.245590              0.0            0.0    7313.0  \n",
      "AAACCCACAAATTAGG-1        12.122315              0.0            0.0    2747.0  \n",
      "AAACCCACATACTGAC-1        11.346039              0.0            0.0    3358.0  \n",
      "AAACCCACATAGATGA-1         9.959424              0.0            0.0    2711.0  \n",
      "...                             ...              ...            ...       ...  \n",
      "TTTGTTGGTTTCGCTC-1        12.613766              0.0            0.0    7032.0  \n",
      "TTTGTTGTCAAGGCTT-1        10.091116              0.0            0.0    4390.0  \n",
      "TTTGTTGTCCGATCGG-1         9.209726              0.0            0.0    9870.0  \n",
      "TTTGTTGTCCTATTTG-1         8.588957              0.0            0.0    8476.0  \n",
      "TTTGTTGTCGAATGCT-1         9.910883              0.0            0.0   11109.0  \n",
      "\n",
      "[14878 rows x 14 columns]\n"
     ]
    }
   ],
   "source": [
    "\n",
    "## Mitochondrial content\n",
    "adata.var[\"mt\"] = adata.var_names.str.startswith(\"mt-\")\n",
    "mito_genes = adata.var_names.str.startswith(\"mt-\")\n",
    "\n",
    "## Ribosomal genes\n",
    "adata.var[\"ribo\"] = adata.var_names.str.startswith(\"Rps\", \"Rpl\")\n",
    "ribo_genes = adata.var_names.str.startswith(\"Rps-\")\n",
    "\n",
    "## Hemoglobin genes\n",
    "adata.var[\"hb\"] = adata.var_names.str.startswith(\"^Hb[^(P)]\")\n",
    "hb_genes = adata.var_names.str.contains('^Hb[^(P)]')\n",
    "\n",
    "## Calculate quality control metrics\n",
    "sc.pp.calculate_qc_metrics(\n",
    "    adata, qc_vars=[\"mt\", \"ribo\", \"hb\"], inplace=True, log1p=False\n",
    ")\n",
    "\n",
    "## Calculate percent of mitochondrial content\n",
    "#adata.obs[\"percent_mt2\"] = np.sum(\n",
    "    #adata[:, mito_genes].X, axis=1).A1 / np.sum(adata.X, axis=1).A1\n",
    "\n",
    "## Calculate percent of ribosomal content\n",
    "#adata.obs[\"percent_ribo\"] = np.sum(adata[:,ribo_genes].X, axis=1).A1 / np.sum(adata.X, axis=1).A1\n",
    "\n",
    "## Calculate total counts for each cell\n",
    "adata.obs[\"n_counts\"] = adata.X.sum(axis=1).A1\n",
    "\n",
    "print(adata.obs)"
   ]
  },
  {
   "cell_type": "code",
   "execution_count": null,
   "metadata": {},
   "outputs": [],
   "source": [
    "## Visualize quality metrics using violin plot\n",
    "sc.pl.violin(\n",
    "    adata,\n",
    "    [\"n_genes_by_counts\", \"total_counts\", \"percent_mt2\"],\n",
    "    jitter=0.4,\n",
    "    multi_panel=True,\n",
    ")\n",
    "\n",
    "## Visualize quality metrics using scatter plot\n",
    "sc.pl.scatter(\n",
    "    adata, \n",
    "    \"total_counts\", \"n_genes_by_counts\", \n",
    "    color = \"percent_mt2\"\n",
    ")"
   ]
  },
  {
   "cell_type": "markdown",
   "metadata": {},
   "source": [
    "This dataset does not have any mitochondrial, ribosomal or hemoglobin content to filter out; However, it always helps to visualize these quality metrics to ensure the quality looks fine before going ahead."
   ]
  },
  {
   "cell_type": "code",
   "execution_count": 254,
   "metadata": {},
   "outputs": [
    {
     "name": "stdout",
     "output_type": "stream",
     "text": [
      "filtered out 254 cells that have less than 100 genes expressed\n",
      "filtered out 10028 genes that are detected in less than 3 cells\n",
      "14624 22257\n"
     ]
    }
   ],
   "source": [
    "## Filter out cells that have at least 200 genes with values\n",
    "sc.pp.filter_cells(adata, min_genes = 100)\n",
    "\n",
    "## Filter out genes that have counts in at least 3 cells \n",
    "sc.pp.filter_genes(adata, min_cells = 3)\n",
    "\n",
    "print(adata.n_obs, adata.n_vars)"
   ]
  },
  {
   "cell_type": "code",
   "execution_count": 255,
   "metadata": {},
   "outputs": [
    {
     "name": "stdout",
     "output_type": "stream",
     "text": [
      "normalizing counts per cell\n",
      "    finished (0:00:00)\n"
     ]
    },
    {
     "data": {
      "image/png": "[encoded data removed]",
      "text/plain": [
       "<Figure size 500x550 with 1 Axes>"
      ]
     },
     "metadata": {},
     "output_type": "display_data"
    }
   ],
   "source": [
    "sc.pl.highest_expr_genes(adata, n_top = 20)"
   ]
  },
  {
   "cell_type": "markdown",
   "metadata": {},
   "source": [
    "Since some of the mitochondrial genes are being expressed highly, we need to rmeove them."
   ]
  },
  {
   "cell_type": "code",
   "execution_count": 257,
   "metadata": {},
   "outputs": [
    {
     "name": "stdout",
     "output_type": "stream",
     "text": [
      "Remaining cells 12867\n",
      "Index(['sample', 'n_genes_by_counts', 'total_counts',\n",
      "       'pct_counts_in_top_50_genes', 'pct_counts_in_top_100_genes',\n",
      "       'pct_counts_in_top_200_genes', 'pct_counts_in_top_500_genes',\n",
      "       'total_counts_mt', 'pct_counts_mt', 'total_counts_ribo',\n",
      "       'pct_counts_ribo', 'total_counts_hb', 'pct_counts_hb', 'n_counts',\n",
      "       'n_genes'],\n",
      "      dtype='object')\n"
     ]
    }
   ],
   "source": [
    "## Mitochondrial and ribosomal filtering\n",
    "adata = adata[adata.obs[\"pct_counts_mt\"] < 20, :]\n",
    "adata = adata[adata.obs[\"pct_counts_ribo\"] > 5, :]\n",
    "print(\"Remaining cells %d\"%adata.n_obs)\n",
    "\n",
    "print(adata.obs.columns)\n",
    "#print(adata.obs[\"pct_counts_mt\"])\n",
    "#print(adata.var[adata.var[\"mt\"] == True])\n"
   ]
  },
  {
   "cell_type": "code",
   "execution_count": 258,
   "metadata": {},
   "outputs": [
    {
     "name": "stderr",
     "output_type": "stream",
     "text": [
      "/Library/Frameworks/Python.framework/Versions/3.12/lib/python3.12/site-packages/scanpy/preprocessing/_normalization.py:207: UserWarning: Received a view of an AnnData. Making a copy.\n",
      "  view_to_actual(adata)\n"
     ]
    },
    {
     "name": "stdout",
     "output_type": "stream",
     "text": [
      "normalizing counts per cell\n",
      "    finished (0:00:00)\n"
     ]
    },
    {
     "data": {
      "image/png": "[encoded data removed]",
      "text/plain": [
       "<Figure size 500x550 with 1 Axes>"
      ]
     },
     "metadata": {},
     "output_type": "display_data"
    }
   ],
   "source": [
    "sc.pl.highest_expr_genes(adata, n_top = 20)"
   ]
  },
  {
   "cell_type": "markdown",
   "metadata": {},
   "source": [
    "## Doublet Detection"
   ]
  },
  {
   "cell_type": "code",
   "execution_count": null,
   "metadata": {},
   "outputs": [],
   "source": [
    "#sc.pp.scrublet(adata, batch_key=\"sample\")"
   ]
  },
  {
   "cell_type": "markdown",
   "metadata": {},
   "source": [
    "## Data Normalization\n",
    "It is normal practice to log transform the values such that the gene counts are uniform across the cells. "
   ]
  },
  {
   "cell_type": "code",
   "execution_count": null,
   "metadata": {},
   "outputs": [],
   "source": [
    "#Save the view into a variable\n",
    "adata.layers[\"counts\"] = adata.X.copy()\n",
    "sc.pp.normalize_total(adata)\n",
    "sc.pp.log1p(adata)"
   ]
  },
  {
   "cell_type": "code",
   "execution_count": null,
   "metadata": {},
   "outputs": [],
   "source": []
  },
  {
   "cell_type": "markdown",
   "metadata": {},
   "source": [
    "## Feature Selection\n",
    "Here, in order to reduce the size of the data and keep only highly variable genes, we will perform feature selection. "
   ]
  },
  {
   "cell_type": "code",
   "execution_count": null,
   "metadata": {},
   "outputs": [],
   "source": [
    "sc.pp.highly_variable_genes(adata, n_top_genes=2000, batch_key=\"sample\")\n",
    "# Plot the variable genes\n",
    "sc.pl.highly_variable_genes(adata)"
   ]
  },
  {
   "cell_type": "markdown",
   "metadata": {},
   "source": [
    "## Dimensional Reduction\n",
    "Here we reduce the dimensionality of the data by summarizing the maximum variance in the form of principal components. "
   ]
  },
  {
   "cell_type": "code",
   "execution_count": null,
   "metadata": {},
   "outputs": [],
   "source": [
    "sc.tl.pca(adata)\n",
    "sc.pl.pca_variance_ratio(adata, n_pcs=50, log=True)\n",
    "sc.pl.pca(\n",
    "    adata,\n",
    "    color=[\"sample\", \"sample\"],\n",
    "    dimensions=[(0, 1), (2, 3)],\n",
    "    ncols=2,\n",
    "    size=2,\n",
    ")"
   ]
  },
  {
   "cell_type": "markdown",
   "metadata": {},
   "source": [
    "## Nearest neighbor graph construction"
   ]
  },
  {
   "cell_type": "code",
   "execution_count": null,
   "metadata": {},
   "outputs": [],
   "source": [
    "# Use PCA to construct nearest neighbors graph\n",
    "sc.pp.neighbors(adata)\n",
    "# Embed this graph into the object in the form of UMAP\n",
    "sc.tl.umap(adata)\n",
    "\n",
    "#V isualize\n",
    "sc.pl.umap(\n",
    "    adata,\n",
    "    color = \"sample\",\n",
    "    size = 2,\n",
    ")"
   ]
  },
  {
   "cell_type": "markdown",
   "metadata": {},
   "source": [
    "## Clustering\n",
    "We use Leiden graph-clustering method to cluster the cells using the neighbor graph."
   ]
  },
  {
   "cell_type": "code",
   "execution_count": null,
   "metadata": {},
   "outputs": [],
   "source": [
    "# Use igraph \n",
    "sc.tl.leiden(adata, flavor=\"igraph\", n_iterations=2)\n",
    "\n",
    "\n",
    "# Visualize\n",
    "sc.pl.umap(\n",
    "    adata,\n",
    "    color = [\"leiden\"]\n",
    ")"
   ]
  },
  {
   "cell_type": "markdown",
   "metadata": {},
   "source": [
    "## Cell annotation\n"
   ]
  },
  {
   "cell_type": "code",
   "execution_count": null,
   "metadata": {},
   "outputs": [],
   "source": [
    "\n",
    "\n",
    "\n"
   ]
  }
 ],
 "metadata": {
  "kernelspec": {
   "display_name": "Python 3",
   "language": "python",
   "name": "python3"
  },
  "language_info": {
   "codemirror_mode": {
    "name": "ipython",
    "version": 3
   },
   "file_extension": ".py",
   "mimetype": "text/x-python",
   "name": "python",
   "nbconvert_exporter": "python",
   "pygments_lexer": "ipython3",
   "version": "3.12.0"
  }
 },
 "nbformat": 4,
 "nbformat_minor": 2
}
